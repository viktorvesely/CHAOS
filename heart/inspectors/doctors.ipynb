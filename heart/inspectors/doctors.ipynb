{
 "cells": [
  {
   "cell_type": "code",
   "execution_count": null,
   "metadata": {},
   "outputs": [],
   "source": [
    "import numpy as np\n",
    "import os\n",
    "\n",
    "name = \"test-6\"\n",
    "\n",
    "p = os.path.abspath(f\"../doctors/{name}/\")\n",
    "\n",
    "w_in = np.load(os.path.join(p, \"w_in.npy\"))\n",
    "w = np.load(os.path.join(p, \"w.npy\"))\n",
    "w_out = np.load(os.path.join(p, \"w_out.npy\"))\n"
   ]
  },
  {
   "cell_type": "code",
   "execution_count": null,
   "metadata": {},
   "outputs": [],
   "source": []
  }
 ],
 "metadata": {
  "language_info": {
   "name": "python"
  },
  "orig_nbformat": 4
 },
 "nbformat": 4,
 "nbformat_minor": 2
}
