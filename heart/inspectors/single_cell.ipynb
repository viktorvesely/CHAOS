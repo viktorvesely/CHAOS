{
 "cells": [
  {
   "cell_type": "code",
   "execution_count": 6,
   "metadata": {},
   "outputs": [],
   "source": [
    "import sys\n",
    "# Sorry for this code : (\n",
    "sys.path.append('../')\n",
    "\n",
    "import os\n",
    "import numpy as np\n",
    "from matplotlib import pyplot as plt\n",
    "from settings import Params\n",
    "\n",
    "def load_experiment(name, newest=False):\n",
    "    core = 0\n",
    "    batch = 0\n",
    "\n",
    "    if newest:\n",
    "        children = os.listdir(\"../hearts/\"  )\n",
    "        \n",
    "        new_name = None\n",
    "        suffix = -1\n",
    "        for child in children:\n",
    "            child_name = child.split(\"-\")\n",
    "\n",
    "            if len(child_name) == 1:\n",
    "                if new_name is None:\n",
    "                    new_name = child_name\n",
    "                    suffix = 0\n",
    "                continue\n",
    "\n",
    "            \n",
    "\n",
    "            child_suffix = int(child_name[1])\n",
    "            if child_name[0] == name and child_suffix > suffix:\n",
    "                new_name = child\n",
    "                suffix = child_suffix\n",
    "        \n",
    "        if new_name is None:\n",
    "            raise ValueError(f\"Heart wiht name {name} does not exist\")\n",
    "        \n",
    "        name = new_name\n",
    "        \n",
    "\n",
    "    par = Params(f\"../hearts/{name}/params.json\")\n",
    "    t_start = par.get(\"t_start\")\n",
    "    t_end = par.get(\"t_end\")\n",
    "\n",
    "    states = np.load(f\"../hearts/{name}/data/states_{core}_{batch}.npy\")\n",
    "    actions = np.load(f\"../hearts/{name}/data/actions_{core}_{batch}.npy\")\n",
    "\n",
    "    return states, actions, t_start, t_end, par, name\n"
   ]
  },
  {
   "cell_type": "code",
   "execution_count": 18,
   "metadata": {},
   "outputs": [
    {
     "name": "stdout",
     "output_type": "stream",
     "text": [
      "single_cell-6\n"
     ]
    },
    {
     "data": {
      "text/plain": [
       "[<matplotlib.lines.Line2D at 0x22392263be0>]"
      ]
     },
     "execution_count": 18,
     "metadata": {},
     "output_type": "execute_result"
    },
    {
     "data": {
      "image/png": "[encoded data removed]",
      "text/plain": [
       "<Figure size 432x288 with 1 Axes>"
      ]
     },
     "metadata": {
      "needs_background": "light"
     },
     "output_type": "display_data"
    }
   ],
   "source": [
    "states, actions, t_start, t_end, par, name = load_experiment(\"single_cell\", newest=True)\n",
    "\n",
    "print(name)\n",
    "\n",
    "Vs = np.squeeze(states).T[0]\n",
    "t = np.linspace(t_start, t_end, num=len(Vs))\n",
    "\n",
    "plt.plot(t, Vs)"
   ]
  },
  {
   "cell_type": "code",
   "execution_count": 27,
   "metadata": {},
   "outputs": [
    {
     "name": "stdout",
     "output_type": "stream",
     "text": [
      "single_cell-14\n"
     ]
    },
    {
     "data": {
      "text/plain": [
       "[<matplotlib.lines.Line2D at 0x22392561fd0>]"
      ]
     },
     "execution_count": 27,
     "metadata": {},
     "output_type": "execute_result"
    },
    {
     "data": {
      "image/png": "[encoded data removed]",
      "text/plain": [
       "<Figure size 432x288 with 1 Axes>"
      ]
     },
     "metadata": {
      "needs_background": "light"
     },
     "output_type": "display_data"
    }
   ],
   "source": [
    "states, actions, t_start, t_end, par, name = load_experiment(\"single_cell\", newest=True)\n",
    "\n",
    "print(name)\n",
    "\n",
    "Vs = np.squeeze(states).T[0]\n",
    "t = np.linspace(t_start, t_end, num=len(Vs))\n",
    "\n",
    "plt.plot(t, Vs)"
   ]
  }
 ],
 "metadata": {
  "interpreter": {
   "hash": "2db524e06e9f5f4ffedc911c917cb75e12dbc923643829bf417064a77eb14d37"
  },
  "kernelspec": {
   "display_name": "Python 3.8.6 64-bit",
   "language": "python",
   "name": "python3"
  },
  "language_info": {
   "codemirror_mode": {
    "name": "ipython",
    "version": 3
   },
   "file_extension": ".py",
   "mimetype": "text/x-python",
   "name": "python",
   "nbconvert_exporter": "python",
   "pygments_lexer": "ipython3",
   "version": "3.8.6"
  },
  "orig_nbformat": 4
 },
 "nbformat": 4,
 "nbformat_minor": 2
}
