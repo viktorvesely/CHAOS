{
 "cells": [
  {
   "cell_type": "code",
   "execution_count": 53,
   "metadata": {},
   "outputs": [],
   "source": [
    "import numpy as np\n",
    "from math import pi\n",
    "from matplotlib import pyplot as plt\n",
    "from perlin_noise import PerlinNoise\n",
    "\n",
    "\n",
    "seed = 135"
   ]
  },
  {
   "cell_type": "code",
   "execution_count": null,
   "metadata": {},
   "outputs": [],
   "source": [
    "def rectifier(signal, kernel_size=3):\n",
    "\n",
    "    if kernel_size < 3:\n",
    "        raise ValueError(f\"Unsifficient kernel_size. Is {kernel_size}, must be above 2.\")\n",
    "\n",
    "    rectified = np.zeros(signal.shape)\n",
    "    size = signal.size\n",
    "    for i in range(size):\n",
    "\n",
    "        sign = 1 if signal[i] >= 0 else -1\n",
    "        abs_max = np.abs(signal[i])\n",
    "        \n",
    "        for k in range(1, kernel_size):\n",
    "            index = i - k\n",
    "            value = 0 if (index < 0 or index >= size) else signal[index]\n",
    "            abs_value = np.abs(value)\n",
    "\n",
    "            if abs_value < abs_max:\n",
    "                abs_max = abs_value\n",
    "                sign = 1 if signal[i] >= 0 else -1\n",
    "\n",
    "        for k in range(kernel_size):\n",
    "            index = i - k\n",
    "            oob = (index < 0 or index >= size)\n",
    "            value = 0 if oob else signal[index]\n",
    "            \n",
    "            if oob:\n",
    "                continue\n",
    "\n",
    "            rectified[index] = abs_value * sign\n",
    "              \n",
    "    return rectified"
   ]
  },
  {
   "cell_type": "code",
   "execution_count": 110,
   "metadata": {},
   "outputs": [
    {
     "data": {
      "text/plain": [
       "0.24997149566640584"
      ]
     },
     "execution_count": 110,
     "metadata": {},
     "output_type": "execute_result"
    }
   ],
   "source": [
    "X = np.random.random(1) * 10_000 - 5_000\n",
    "t = np.arange(X, X + 0.08, 0.0001)\n",
    "\n",
    "sqrt2 = np.sqrt(2)\n",
    "def get_action(t, f):\n",
    "    return (np.sin(f * 2 * pi * t) + np.sin(f * 2 * pi * t / sqrt2)) / 2\n",
    "\n",
    "val = get_action(t, 70)\n",
    "\n",
    "plt.plot(t, val)\n",
    "\n"
   ]
  },
  {
   "cell_type": "code",
   "execution_count": 126,
   "metadata": {},
   "outputs": [
    {
     "ename": "ModuleNotFoundError",
     "evalue": "No module named 'noise'",
     "output_type": "error",
     "traceback": [
      "\u001b[1;31m---------------------------------------------------------------------------\u001b[0m",
      "\u001b[1;31mModuleNotFoundError\u001b[0m                       Traceback (most recent call last)",
      "\u001b[1;32m<ipython-input-126-68ebaeff48aa>\u001b[0m in \u001b[0;36m<module>\u001b[1;34m\u001b[0m\n\u001b[1;32m----> 1\u001b[1;33m \u001b[1;32mfrom\u001b[0m \u001b[0mnoise\u001b[0m \u001b[1;32mimport\u001b[0m \u001b[0mRectNoise\u001b[0m\u001b[1;33m\u001b[0m\u001b[1;33m\u001b[0m\u001b[0m\n\u001b[0m\u001b[0;32m      2\u001b[0m \u001b[1;33m\u001b[0m\u001b[0m\n\u001b[0;32m      3\u001b[0m \u001b[0mt\u001b[0m \u001b[1;33m=\u001b[0m \u001b[0mnp\u001b[0m\u001b[1;33m.\u001b[0m\u001b[0marange\u001b[0m\u001b[1;33m(\u001b[0m\u001b[1;36m0\u001b[0m\u001b[1;33m,\u001b[0m \u001b[1;36m2000\u001b[0m\u001b[1;33m,\u001b[0m \u001b[1;36m0.2\u001b[0m\u001b[1;33m)\u001b[0m\u001b[1;33m\u001b[0m\u001b[1;33m\u001b[0m\u001b[0m\n\u001b[0;32m      4\u001b[0m \u001b[0mnoise\u001b[0m \u001b[1;33m=\u001b[0m \u001b[0mRectNoise\u001b[0m\u001b[1;33m(\u001b[0m\u001b[1;36m40\u001b[0m\u001b[1;33m,\u001b[0m \u001b[1;36m10\u001b[0m\u001b[1;33m,\u001b[0m \u001b[1;36m40\u001b[0m\u001b[1;33m,\u001b[0m \u001b[1;33m-\u001b[0m\u001b[1;36m40\u001b[0m\u001b[1;33m,\u001b[0m \u001b[1;36m5\u001b[0m\u001b[1;33m)\u001b[0m\u001b[1;33m\u001b[0m\u001b[1;33m\u001b[0m\u001b[0m\n\u001b[0;32m      5\u001b[0m \u001b[1;33m\u001b[0m\u001b[0m\n",
      "\u001b[1;31mModuleNotFoundError\u001b[0m: No module named 'noise'"
     ]
    }
   ],
   "source": [
    "t = np.arange(0, 2000, 0.2)\n",
    "noise = RectNoise(40, 10, 40, -40, 5)\n",
    "\n",
    "actions = [noise(t[i]) for i in range(t.size)]\n",
    "plt.plot(t, actions)"
   ]
  },
  {
   "cell_type": "code",
   "execution_count": 19,
   "metadata": {},
   "outputs": [
    {
     "name": "stdout",
     "output_type": "stream",
     "text": [
      "(2, 60)\n"
     ]
    },
    {
     "data": {
      "text/plain": [
       "<matplotlib.legend.Legend at 0x26aef8cb610>"
      ]
     },
     "execution_count": 19,
     "metadata": {},
     "output_type": "execute_result"
    },
    {
     "data": {
      "image/png": "[encoded data removed]",
      "text/plain": [
       "<Figure size 432x288 with 1 Axes>"
      ]
     },
     "metadata": {
      "needs_background": "light"
     },
     "output_type": "display_data"
    }
   ],
   "source": [
    "# in s\n",
    "fs = [\n",
    "    1, 2\n",
    "]\n",
    "\n",
    "# over seconds\n",
    "signal = []\n",
    "\n",
    "# in s\n",
    "t = np.arange(0, 3, 0.05)\n",
    "\n",
    "for f in fs:\n",
    "    signal.append(np.sin(2 * pi * f * t))\n",
    "\n",
    "\n",
    "signal = np.array(signal)\n",
    "print(signal.shape)\n",
    "collapsed = np.sum(signal, axis=0)\n",
    "        \n",
    "\n",
    "rectified = rectifier(collapsed, kernel_size=20)\n",
    "\n",
    "plt.plot(t, collapsed, label=\"signal\")\n",
    "plt.plot(t, rectified, label=\"rectified\")\n",
    "plt.legend()\n"
   ]
  },
  {
   "cell_type": "code",
   "execution_count": 16,
   "metadata": {},
   "outputs": [
    {
     "data": {
      "text/plain": [
       "-6.123233995736766e-16"
      ]
     },
     "execution_count": 16,
     "metadata": {},
     "output_type": "execute_result"
    }
   ],
   "source": []
  }
 ],
 "metadata": {
  "interpreter": {
   "hash": "2db524e06e9f5f4ffedc911c917cb75e12dbc923643829bf417064a77eb14d37"
  },
  "kernelspec": {
   "display_name": "Python 3.8.6 64-bit",
   "language": "python",
   "name": "python3"
  },
  "language_info": {
   "codemirror_mode": {
    "name": "ipython",
    "version": 3
   },
   "file_extension": ".py",
   "mimetype": "text/x-python",
   "name": "python",
   "nbconvert_exporter": "python",
   "pygments_lexer": "ipython3",
   "version": "3.8.6"
  },
  "orig_nbformat": 4
 },
 "nbformat": 4,
 "nbformat_minor": 2
}
